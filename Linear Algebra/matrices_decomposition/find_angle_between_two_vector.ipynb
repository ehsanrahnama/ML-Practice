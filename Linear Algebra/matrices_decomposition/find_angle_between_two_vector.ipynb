{
 "cells": [
  {
   "cell_type": "code",
   "execution_count": 3,
   "id": "dcab3229-65a0-4387-9680-1e1b64035e0f",
   "metadata": {},
   "outputs": [],
   "source": [
    "import numpy as np \n",
    "import math "
   ]
  },
  {
   "cell_type": "code",
   "execution_count": null,
   "id": "bf8ed401-efbd-4afe-8035-d5e115296af6",
   "metadata": {},
   "outputs": [],
   "source": []
  },
  {
   "cell_type": "code",
   "execution_count": 4,
   "id": "0cf02455-6bd5-462f-b2c9-5d04d3465863",
   "metadata": {},
   "outputs": [],
   "source": [
    "A = np.array([[1,4],[2,3]])"
   ]
  },
  {
   "cell_type": "code",
   "execution_count": 6,
   "id": "0640f4b2-97ed-46d1-9846-197352b945f1",
   "metadata": {},
   "outputs": [],
   "source": [
    "cosine_value = np.dot(A[:, 0],A[:, 1]) / np.linalg.norm(A[:, 0]) / np.linalg.norm(A[:, 1])"
   ]
  },
  {
   "cell_type": "code",
   "execution_count": 7,
   "id": "401c53a3-2e40-4b14-babf-16687e808412",
   "metadata": {},
   "outputs": [
    {
     "data": {
      "text/plain": [
       "26.56505117707798"
      ]
     },
     "execution_count": 7,
     "metadata": {},
     "output_type": "execute_result"
    }
   ],
   "source": [
    "math.degrees(math.acos(cosine_value ))"
   ]
  },
  {
   "cell_type": "code",
   "execution_count": null,
   "id": "96b2dc90-65e3-424e-badc-09f83e4fe154",
   "metadata": {},
   "outputs": [],
   "source": []
  }
 ],
 "metadata": {
  "kernelspec": {
   "display_name": "Python 3 (ipykernel)",
   "language": "python",
   "name": "python3"
  },
  "language_info": {
   "codemirror_mode": {
    "name": "ipython",
    "version": 3
   },
   "file_extension": ".py",
   "mimetype": "text/x-python",
   "name": "python",
   "nbconvert_exporter": "python",
   "pygments_lexer": "ipython3",
   "version": "3.8.12"
  }
 },
 "nbformat": 4,
 "nbformat_minor": 5
}
