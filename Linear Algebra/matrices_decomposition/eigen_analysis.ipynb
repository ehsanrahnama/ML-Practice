{
 "cells": [
  {
   "cell_type": "markdown",
   "id": "47e3381e-de90-45d9-b8a5-b5367caabe44",
   "metadata": {},
   "source": [
    "# Eigenvector and Eigenvalue\n",
    "we can interprate linear mapping and their associated transformation matrices by performing an **eigen** analysis.\n",
    "\n",
    "This is eigenvalue equation \n",
    "\n",
    "$Av=\\lambda v$\n",
    "\n",
    "A: matrix (should be a **square** matrix) $A \\in \\mathbb{R}^{n\\times n}$\n",
    "\n",
    "$v$: eigenvectors of A and $x \\in \\mathbb{R}^n\\setminus\\{0\\}$\n",
    "\n",
    "$\\lambda$: eigenvalues $\\lambda \\in \\mathbb{R}$"
   ]
  },
  {
   "cell_type": "code",
   "execution_count": 6,
   "id": "c14cb64f-f2c1-4163-8839-80965dd22b24",
   "metadata": {},
   "outputs": [],
   "source": [
    "import numpy as np "
   ]
  },
  {
   "cell_type": "code",
   "execution_count": 7,
   "id": "49947349-cca0-4bf8-a87c-833bd469ac42",
   "metadata": {},
   "outputs": [
    {
     "data": {
      "text/plain": [
       "array([[1, 4],\n",
       "       [2, 3]])"
      ]
     },
     "execution_count": 7,
     "metadata": {},
     "output_type": "execute_result"
    }
   ],
   "source": [
    "A = np.array([[1,4],[2,3]])\n",
    "A"
   ]
  },
  {
   "cell_type": "code",
   "execution_count": 8,
   "id": "1f50a01d-5413-4192-9508-c7dff21fa58c",
   "metadata": {},
   "outputs": [
    {
     "name": "stdout",
     "output_type": "stream",
     "text": [
      "eigenvalue: [-1.  5.]\n",
      "eigenvector:\n",
      " [[-0.89442719 -0.70710678]\n",
      " [ 0.4472136  -0.70710678]]\n"
     ]
    }
   ],
   "source": [
    "w, v = np.linalg.eig(A)\n",
    "print(\"eigenvalue:\", w)\n",
    "print(\"eigenvector:\\n\", v)"
   ]
  },
  {
   "cell_type": "code",
   "execution_count": 9,
   "id": "a355c34b-8e4b-4a81-997a-269fd6bb8607",
   "metadata": {},
   "outputs": [
    {
     "data": {
      "text/plain": [
       "array([[False, False],\n",
       "       [False, False]])"
      ]
     },
     "execution_count": 9,
     "metadata": {},
     "output_type": "execute_result"
    }
   ],
   "source": [
    "A@v == w@v"
   ]
  },
  {
   "cell_type": "markdown",
   "id": "8ad3cc03-ba64-4bec-8991-e743d27523c9",
   "metadata": {},
   "source": [
    "### why the output is false?\n",
    "Based on above equation, we should get ture. what does happen? \n",
    "\n",
    "Multiply **1D array** by **2D array**!!! \n",
    "\n",
    "So, we should go back to how to construct a matrix using its eigenvalues and eigenvectors.\n",
    "\n",
    "**Eigen-Decomposition Formula**\n",
    "If a square matrix A  has a full set of linearly independent eigenvectors, then:\\\n",
    "$A=VDV^{-1}$\n",
    "\n",
    "$V$ is the matrix of eigenvectors as columns (shape: $n\\times n$)\\\n",
    "$𝐷$ the diagonal matrix of eigenvalues (shape:  $n\\times n$)\\\n",
    "$V^{-1}$ is the inverse of $V$\n",
    "\n",
    "\n",
    "\n",
    "Multiply both sides of  $A=VDV^{-1}$ by $V$ on the **right**:\\\n",
    "$AV=VD$\\\n",
    "And this is the key equation!\n"
   ]
  },
  {
   "cell_type": "code",
   "execution_count": 10,
   "id": "04da31cf-e08a-452f-8a9e-b60a0e452ce6",
   "metadata": {},
   "outputs": [
    {
     "data": {
      "text/plain": [
       "True"
      ]
     },
     "execution_count": 10,
     "metadata": {},
     "output_type": "execute_result"
    }
   ],
   "source": [
    "np.allclose(A @ v, v @ np.diag(w)) "
   ]
  },
  {
   "cell_type": "code",
   "execution_count": 11,
   "id": "6f384c0d-3d21-4b62-b738-9b4249766fd0",
   "metadata": {},
   "outputs": [
    {
     "data": {
      "text/plain": [
       "array([[1., 4.],\n",
       "       [2., 3.]])"
      ]
     },
     "execution_count": 11,
     "metadata": {},
     "output_type": "execute_result"
    }
   ],
   "source": [
    "v@np.diag(w)@np.linalg.inv(v)"
   ]
  },
  {
   "cell_type": "markdown",
   "id": "c64c6f05-661c-47b2-bf18-688bd7492d29",
   "metadata": {},
   "source": [
    "$V^{-1}AV=D$"
   ]
  },
  {
   "cell_type": "code",
   "execution_count": 17,
   "id": "6179b7ac-74be-49be-af39-364941a8bfba",
   "metadata": {},
   "outputs": [
    {
     "data": {
      "text/plain": [
       "array([[-1.,  0.],\n",
       "       [ 0.,  5.]])"
      ]
     },
     "execution_count": 17,
     "metadata": {},
     "output_type": "execute_result"
    }
   ],
   "source": [
    "D = np.linalg.inv(v)@A@v\n",
    "D"
   ]
  },
  {
   "cell_type": "code",
   "execution_count": 18,
   "id": "a6dce69f-7cb8-4929-83de-9a8dea8dc27c",
   "metadata": {},
   "outputs": [
    {
     "data": {
      "text/plain": [
       "array([[-1.,  0.],\n",
       "       [ 0.,  5.]])"
      ]
     },
     "execution_count": 18,
     "metadata": {},
     "output_type": "execute_result"
    }
   ],
   "source": [
    "np.diag(w)"
   ]
  },
  {
   "cell_type": "code",
   "execution_count": 7,
   "id": "6c3e0cf3-a751-47fa-b934-a3944dc9edc7",
   "metadata": {},
   "outputs": [
    {
     "data": {
      "text/plain": [
       "array([[ 0.89442719, -3.53553391],\n",
       "       [-0.4472136 , -3.53553391]])"
      ]
     },
     "execution_count": 7,
     "metadata": {},
     "output_type": "execute_result"
    }
   ],
   "source": [
    "v@np.diag(w)"
   ]
  },
  {
   "cell_type": "markdown",
   "id": "47d4615f-8695-4982-b465-4b21c29ea543",
   "metadata": {},
   "source": [
    "Use np.allclose() for numerical comparisons involving floating-point numbers."
   ]
  },
  {
   "cell_type": "markdown",
   "id": "638e940f-7ded-434e-bc87-57037879cef7",
   "metadata": {},
   "source": [
    "You might be wondering why the first equation doesn't work in Python code. Is the equation itself correct, or is my implementation wrong? How can we prove its correctness. \n",
    "\n",
    "we can consider for each eigenpair\n",
    "$Av_i == \\lambda_iv_i$\n",
    "  "
   ]
  },
  {
   "cell_type": "markdown",
   "id": "453aed5b-03ac-419a-af84-3f7172ff50e1",
   "metadata": {},
   "source": [
    "#### First column"
   ]
  },
  {
   "cell_type": "code",
   "execution_count": 8,
   "id": "54e796b0-b512-4f8b-afda-c00c75df6418",
   "metadata": {},
   "outputs": [
    {
     "data": {
      "text/plain": [
       "array([ 0.89442719, -0.4472136 ])"
      ]
     },
     "execution_count": 8,
     "metadata": {},
     "output_type": "execute_result"
    }
   ],
   "source": [
    "w[0]*v[:,0] "
   ]
  },
  {
   "cell_type": "markdown",
   "id": "7b81750a-0e9a-46f9-93fa-26c86114b656",
   "metadata": {},
   "source": [
    "#### Second column"
   ]
  },
  {
   "cell_type": "code",
   "execution_count": 9,
   "id": "b883ddbd-0f0b-48b7-803e-0c2bfdc95363",
   "metadata": {},
   "outputs": [
    {
     "data": {
      "text/plain": [
       "array([-3.53553391, -3.53553391])"
      ]
     },
     "execution_count": 9,
     "metadata": {},
     "output_type": "execute_result"
    }
   ],
   "source": [
    "np.dot(w[1],v[:,1]) "
   ]
  },
  {
   "cell_type": "code",
   "execution_count": 10,
   "id": "598aaf5a-80c1-4326-b704-9973d37b8a48",
   "metadata": {},
   "outputs": [
    {
     "data": {
      "text/plain": [
       "array([ 0.89442719, -0.4472136 ])"
      ]
     },
     "execution_count": 10,
     "metadata": {},
     "output_type": "execute_result"
    }
   ],
   "source": [
    "A@v[:,0]"
   ]
  },
  {
   "cell_type": "code",
   "execution_count": 11,
   "id": "90a3fae5-d2b5-4acb-a478-e1c5addb958c",
   "metadata": {},
   "outputs": [
    {
     "data": {
      "text/plain": [
       "array([-3.53553391, -3.53553391])"
      ]
     },
     "execution_count": 11,
     "metadata": {},
     "output_type": "execute_result"
    }
   ],
   "source": [
    "A@v[:,1]"
   ]
  },
  {
   "cell_type": "markdown",
   "id": "93ff1ec0-b970-4c30-8005-41c688aac39a",
   "metadata": {},
   "source": [
    "## Plot "
   ]
  },
  {
   "cell_type": "code",
   "execution_count": 12,
   "id": "423d47ed-462a-4af5-8612-af99b608bd98",
   "metadata": {},
   "outputs": [],
   "source": [
    "import matplotlib.pyplot as plt"
   ]
  },
  {
   "cell_type": "code",
   "execution_count": 13,
   "id": "abc000f3-6b65-433b-bba2-7cb72f82a67a",
   "metadata": {},
   "outputs": [
    {
     "data": {
      "image/png": "[encoded data removed]",
      "text/plain": [
       "<Figure size 432x288 with 1 Axes>"
      ]
     },
     "metadata": {
      "needs_background": "light"
     },
     "output_type": "display_data"
    }
   ],
   "source": [
    "origin = np.zeros((2, A.shape[1]))  # origin for arrows (0,0)\n",
    "plt.quiver(*origin, A[0, :], A[1, :], angles='xy', scale_units='xy', scale=1, color=['r', 'b'])\n",
    "plt.quiver(*origin, v[0, :], v[1, :], angles='xy', scale_units='xy', scale=1, color=['g', 'y'])\n",
    "\n",
    "plt.xlim(-5, 5)\n",
    "plt.ylim(-5, 5)\n",
    "plt.grid()\n",
    "plt.gca().set_aspect('equal')\n",
    "plt.title(\"Matrix and its Eigenvector\")\n",
    "plt.show()"
   ]
  },
  {
   "cell_type": "code",
   "execution_count": null,
   "id": "b843b1e1-f94d-4acd-ad4c-6e1ce555a64c",
   "metadata": {},
   "outputs": [],
   "source": []
  },
  {
   "cell_type": "code",
   "execution_count": null,
   "id": "404d6d8f-ac77-44f5-b0ec-cb7db39ac4bb",
   "metadata": {},
   "outputs": [],
   "source": []
  },
  {
   "cell_type": "code",
   "execution_count": null,
   "id": "af569266-a455-46e5-8aa0-2d5289f952e7",
   "metadata": {},
   "outputs": [],
   "source": []
  },
  {
   "cell_type": "code",
   "execution_count": null,
   "id": "0b203920-3b2d-4bc3-bef6-a72db766ed45",
   "metadata": {},
   "outputs": [],
   "source": []
  },
  {
   "cell_type": "code",
   "execution_count": null,
   "id": "550825a7-47b9-41ba-8c0d-c739d5450ece",
   "metadata": {},
   "outputs": [],
   "source": []
  },
  {
   "cell_type": "code",
   "execution_count": null,
   "id": "5fabeba3-7422-4006-8af7-0b2f3d2dd895",
   "metadata": {},
   "outputs": [],
   "source": []
  }
 ],
 "metadata": {
  "kernelspec": {
   "display_name": "Python 3 (ipykernel)",
   "language": "python",
   "name": "python3"
  },
  "language_info": {
   "codemirror_mode": {
    "name": "ipython",
    "version": 3
   },
   "file_extension": ".py",
   "mimetype": "text/x-python",
   "name": "python",
   "nbconvert_exporter": "python",
   "pygments_lexer": "ipython3",
   "version": "3.8.12"
  }
 },
 "nbformat": 4,
 "nbformat_minor": 5
}
