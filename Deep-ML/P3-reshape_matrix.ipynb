{
 "cells": [
  {
   "cell_type": "code",
   "execution_count": 1,
   "id": "982a7088-880f-40ce-bc69-e7502c8b1e71",
   "metadata": {},
   "outputs": [],
   "source": [
    "from typing import List, Tuple, Union"
   ]
  },
  {
   "cell_type": "code",
   "execution_count": 2,
   "id": "5c7e62d4-5904-402b-8c9c-0ccf8cf99db7",
   "metadata": {},
   "outputs": [],
   "source": [
    "\n",
    "def reshape_matrix(a: List[List[Union[int,float]]], new_shape: Tuple[int, int]) -> List[List[Union[int,float]]]:\n",
    "\n",
    "    #Write your code here and return a python list after reshaping by using numpy's tolist() method\n",
    "    row, col = new_shape\n",
    "    flat = [elem for row in a for elem in row]\n",
    "    if len(flat) != row * col:\n",
    "        return []\n",
    "    \n",
    "    reshaped_matrix = []\n",
    "    for i in range(row):\n",
    "        start = i * col\n",
    "        end = start + col\n",
    "        reshaped_matrix.append(flat[start:end])\n",
    "\n",
    "    return reshaped_matrix"
   ]
  },
  {
   "cell_type": "code",
   "execution_count": null,
   "id": "26064989-f28c-4bb4-9987-6921a872951e",
   "metadata": {},
   "outputs": [],
   "source": []
  },
  {
   "cell_type": "code",
   "execution_count": 3,
   "id": "b9877bf5-83c1-4aa8-9415-1cd78bfa6e85",
   "metadata": {},
   "outputs": [],
   "source": [
    "a = [[1,2,3,4],[5,6,7,8]]\n",
    "new_shape = (4, 2)"
   ]
  },
  {
   "cell_type": "code",
   "execution_count": 4,
   "id": "a000db11-fd43-42c2-a228-e7eb17b5b80e",
   "metadata": {},
   "outputs": [
    {
     "data": {
      "text/plain": [
       "[[1, 2], [3, 4], [5, 6], [7, 8]]"
      ]
     },
     "execution_count": 4,
     "metadata": {},
     "output_type": "execute_result"
    }
   ],
   "source": [
    "reshape_matrix(a, new_shape)"
   ]
  },
  {
   "cell_type": "code",
   "execution_count": null,
   "id": "3174b1c0-25c1-40ac-85b7-37b603189ebd",
   "metadata": {},
   "outputs": [],
   "source": []
  }
 ],
 "metadata": {
  "kernelspec": {
   "display_name": "Python 3 (ipykernel)",
   "language": "python",
   "name": "python3"
  },
  "language_info": {
   "codemirror_mode": {
    "name": "ipython",
    "version": 3
   },
   "file_extension": ".py",
   "mimetype": "text/x-python",
   "name": "python",
   "nbconvert_exporter": "python",
   "pygments_lexer": "ipython3",
   "version": "3.8.12"
  }
 },
 "nbformat": 4,
 "nbformat_minor": 5
}
