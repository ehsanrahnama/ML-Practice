{
 "cells": [
  {
   "cell_type": "markdown",
   "id": "84423cad-27d2-4f60-98ab-6905df75687e",
   "metadata": {},
   "source": [
    "## Calculate Eigenvalues from Scratch \n",
    "we know that the equation for eigenvalue is below\n",
    "\n",
    "$Ax=\\lambda x$\n",
    "\n",
    "A: matrix (should be a **square** matrix) $A \\in \\mathbb{R}^{n\\times n}$\\\n",
    "$x$: eigenvectors\\\n",
    "$\\lambda$: eigenvalues\n",
    "\n",
    "$(A- \\lambda I)x=0$ can be solved non-trivially, i.e, $x\\neq 0$\\\n",
    "$det(A−\\lambda I)=0$\n",
    "\n",
    "### For Matrix 2x2\n",
    "\n",
    "Let’s write the matrix A and the identity matrix I:\\\n",
    "$A=\\begin{bmatrix} a & b \\\\ c & d \\end{bmatrix}$,  $I=\\begin{bmatrix} 1 & 0 \\\\ 0 & 1 \\end{bmatrix}$\n",
    "\n",
    "\n",
    "Then, the matrix A−λI becomes:\n",
    "$A-\\lambda I = \\begin{bmatrix} a-\\lambda & b \\\\ c & d-\\lambda \\end{bmatrix}$\n",
    "\n",
    "We now take the determinant of this matrix:\\\n",
    "$$det(A−\\lambda I)=(a−\\lambda)(d−\\lambda)−bc$$\n",
    "\n",
    "Let’s expand this:\n",
    "$$ (a−\\lambda)(d−\\lambda)=ad−a\\lambda−d\\lambda+\\lambda^2$$\n",
    "So:\n",
    "$$det(A−\\lambda I)=\\lambda^2−(a+d)\\lambda+(ad−bc)$$\n",
    "\n",
    "$$tr(A) = a+d$$\n",
    "$$det(A) =(ad−bc)$$\n",
    "\n"
   ]
  },
  {
   "cell_type": "markdown",
   "id": "48f66822-d933-4996-bec3-d93990625391",
   "metadata": {},
   "source": [
    "**You can try it on Deep-ML** [problem 6](https://www.deep-ml.com/problems/6)"
   ]
  },
  {
   "cell_type": "code",
   "execution_count": 1,
   "id": "eb3a4a49-7bd4-471b-a0e7-e169e8ee151d",
   "metadata": {},
   "outputs": [],
   "source": [
    "from typing import List, Union\n",
    "import math"
   ]
  },
  {
   "cell_type": "code",
   "execution_count": null,
   "id": "b6d21b93-14b6-454f-88d5-c896dcd85699",
   "metadata": {},
   "outputs": [],
   "source": []
  },
  {
   "cell_type": "code",
   "execution_count": 2,
   "id": "0b0ee9af-1153-4e11-930c-54d52cb12896",
   "metadata": {},
   "outputs": [],
   "source": [
    "def calculate_eigenvalues(matrix: List[List[Union[float,int]]]) -> List[float]:\n",
    "    # Ensure the matrix is 2x2\n",
    "    if len(matrix) != 2 or len(matrix[0]) != 2 or len(matrix[1]) != 2:\n",
    "        raise ValueError(\"This function only supports 2x2 matrices.\")\n",
    "    \n",
    "    # Extract elements\n",
    "    a = matrix[0][0]\n",
    "    b = matrix[0][1]\n",
    "    c = matrix[1][0]\n",
    "    d = matrix[1][1]\n",
    "    # Compute trace and determinant\n",
    "    trace = a + d\n",
    "    determinant = a * d - b * c\n",
    "    \n",
    "    #Finding the roots of quadratic equation\n",
    "    \n",
    "    # Discriminant\n",
    "    discriminant = trace ** 2 - 4 * determinant\n",
    "    if discriminant < 0:\n",
    "        raise ValueError(\"Matrix has complex eigenvalues. This function handles real eigenvalues only.\")\n",
    "\n",
    "    sqrt_disc = math.sqrt(discriminant)\n",
    "\n",
    "    # Use parentheses to avoid order of operations confusion\n",
    "    lambda1 = (trace + sqrt_disc) / 2\n",
    "    lambda2 = (trace - sqrt_disc) / 2\n",
    "    eigenvalues = [lambda1, lambda2]\n",
    "    return eigenvalues"
   ]
  },
  {
   "cell_type": "code",
   "execution_count": 3,
   "id": "da94f28b-2e8f-4972-a186-8dcee51c10d4",
   "metadata": {},
   "outputs": [],
   "source": [
    "matrix = [[2, 1], [1, 2]]"
   ]
  },
  {
   "cell_type": "code",
   "execution_count": 4,
   "id": "85bac80a-82cb-4324-8027-10c26a76a9c0",
   "metadata": {},
   "outputs": [
    {
     "data": {
      "text/plain": [
       "[3.0, 1.0]"
      ]
     },
     "execution_count": 4,
     "metadata": {},
     "output_type": "execute_result"
    }
   ],
   "source": [
    "calculate_eigenvalues(matrix)"
   ]
  },
  {
   "cell_type": "code",
   "execution_count": null,
   "id": "ecfde872-2cc4-4258-93a7-76896a69f3f6",
   "metadata": {},
   "outputs": [],
   "source": []
  },
  {
   "cell_type": "code",
   "execution_count": null,
   "id": "b18b6cad-2b62-41ef-bf7b-c91e5305330f",
   "metadata": {},
   "outputs": [],
   "source": []
  }
 ],
 "metadata": {
  "kernelspec": {
   "display_name": "Python 3 (ipykernel)",
   "language": "python",
   "name": "python3"
  },
  "language_info": {
   "codemirror_mode": {
    "name": "ipython",
    "version": 3
   },
   "file_extension": ".py",
   "mimetype": "text/x-python",
   "name": "python",
   "nbconvert_exporter": "python",
   "pygments_lexer": "ipython3",
   "version": "3.8.12"
  }
 },
 "nbformat": 4,
 "nbformat_minor": 5
}
