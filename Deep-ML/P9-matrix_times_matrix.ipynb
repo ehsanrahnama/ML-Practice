{
 "cells": [
  {
   "cell_type": "code",
   "execution_count": 1,
   "id": "53dcb0f7-ef08-4129-9e23-6fa3757a64ed",
   "metadata": {},
   "outputs": [],
   "source": [
    "from typing import List, Union"
   ]
  },
  {
   "cell_type": "code",
   "execution_count": 2,
   "id": "4a81942b-c6e3-4d54-a44c-eb6d4adf4a03",
   "metadata": {},
   "outputs": [],
   "source": [
    "def matrixmul(A:List[List[Union[int,float]]],\n",
    "              B:List[List[Union[int,float]]])-> List[List[Union[int,float]]]:\n",
    "    A_m = len(A) #rowA\n",
    "    A_n = len(A[0]) #colA\n",
    "    B_n = len(B) #rowB\n",
    "    B_m = len(B[0]) #colB\n",
    "    ## for matrices multiplication this rule should be check A_n == B_n\n",
    "    if A_n != B_n: \n",
    "        return -1\n",
    "    else:\n",
    "        C_m = A_m #row new matrix\n",
    "        C_n = B_m #col new matrix\n",
    "        C = [[0 for j in range(C_n)] for i in range(C_m)] \n",
    "        def row(M, r): return M[r]\n",
    "        def col(M, c): return [v[c] for v in M]\n",
    "        def dot (v1, v2): return sum(x*y for x, y in zip(v1,v2))\n",
    "        \n",
    "        for i in range(C_m):\n",
    "            for j in range(C_n):\n",
    "                C[i][j] = dot(row(A,i), col(B,j))        \n",
    "        return C                                                "
   ]
  },
  {
   "cell_type": "code",
   "execution_count": null,
   "id": "7dc6321a-ac0a-4d6f-80d9-3af1e9f88025",
   "metadata": {},
   "outputs": [],
   "source": []
  },
  {
   "cell_type": "code",
   "execution_count": 3,
   "id": "88ad73b6-bc2d-4c09-a051-190635b012cf",
   "metadata": {},
   "outputs": [],
   "source": [
    "A = [[1,2],[2,4]]\n",
    "B = [[2,1],[3,4]]"
   ]
  },
  {
   "cell_type": "code",
   "execution_count": 4,
   "id": "fb7fa778-4d8f-499c-a9fb-4aa56ee5e4ff",
   "metadata": {},
   "outputs": [
    {
     "data": {
      "text/plain": [
       "[[8, 9], [16, 18]]"
      ]
     },
     "execution_count": 4,
     "metadata": {},
     "output_type": "execute_result"
    }
   ],
   "source": [
    "matrixmul(A, B)"
   ]
  },
  {
   "cell_type": "code",
   "execution_count": null,
   "id": "7885926c-e42c-4f4d-9500-f75cf62d277f",
   "metadata": {},
   "outputs": [],
   "source": []
  },
  {
   "cell_type": "code",
   "execution_count": null,
   "id": "0fdf3b94-9e30-4a3c-a6d6-e2ec9f886839",
   "metadata": {},
   "outputs": [],
   "source": []
  },
  {
   "cell_type": "code",
   "execution_count": null,
   "id": "5e605809-5151-4770-9e61-0abf6a30acdb",
   "metadata": {},
   "outputs": [],
   "source": []
  },
  {
   "cell_type": "code",
   "execution_count": null,
   "id": "7b4a89e2-c5d4-48c3-aac5-50bcdf7c9628",
   "metadata": {},
   "outputs": [],
   "source": []
  },
  {
   "cell_type": "code",
   "execution_count": null,
   "id": "59002642-ad4f-4d73-bc73-6110cc7b3638",
   "metadata": {},
   "outputs": [],
   "source": []
  },
  {
   "cell_type": "code",
   "execution_count": null,
   "id": "5c2e97a1-6607-43a4-9743-5e0d84bde3bd",
   "metadata": {},
   "outputs": [],
   "source": []
  }
 ],
 "metadata": {
  "kernelspec": {
   "display_name": "Python 3 (ipykernel)",
   "language": "python",
   "name": "python3"
  },
  "language_info": {
   "codemirror_mode": {
    "name": "ipython",
    "version": 3
   },
   "file_extension": ".py",
   "mimetype": "text/x-python",
   "name": "python",
   "nbconvert_exporter": "python",
   "pygments_lexer": "ipython3",
   "version": "3.8.12"
  }
 },
 "nbformat": 4,
 "nbformat_minor": 5
}
