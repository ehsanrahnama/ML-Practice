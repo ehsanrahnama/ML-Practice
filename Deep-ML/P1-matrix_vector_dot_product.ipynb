{
 "cells": [
  {
   "cell_type": "code",
   "execution_count": 1,
   "id": "21d895d8-6ade-4e36-acf5-213d5cb5ea1b",
   "metadata": {},
   "outputs": [],
   "source": [
    "from typing import List, Union"
   ]
  },
  {
   "cell_type": "code",
   "execution_count": 2,
   "id": "2a152bfc-6733-4596-88c7-418a29822283",
   "metadata": {},
   "outputs": [],
   "source": [
    "def matrix_dot_vector(a: List[List[Union[int, float]]], b: List[Union[int, float]]) -> List[Union[int, float]]:\n",
    "\n",
    "\n",
    "    \n",
    "\t# Return a list where each element is the dot product of a row of 'a' with 'b'.\n",
    "\t# If the number of columns in 'a' does not match the length of 'b', return -1.\n",
    "    res = []\n",
    "    for i in range(len(a)):\n",
    "        if len(a[i]) != len(b):\n",
    "            return -1\n",
    "\n",
    "        else:\n",
    "            res.append(sum(x*y for x, y in zip(a[i], b)))\n",
    "            \"\"\"\n",
    "            # with for loops \n",
    "            dp=0\n",
    "            for j in range(len(a[i])):\n",
    "                dp+= a[i][j] * b[j]\n",
    "            res.append(dp)\n",
    "            \"\"\"\n",
    "    return res  \n"
   ]
  },
  {
   "cell_type": "code",
   "execution_count": 3,
   "id": "a5dc6b81-1331-48b3-ba09-6a34284938f1",
   "metadata": {},
   "outputs": [],
   "source": [
    "a = [[1, 2], [2, 4]] \n",
    "b = [1, 2]"
   ]
  },
  {
   "cell_type": "code",
   "execution_count": 4,
   "id": "c0375637-bdef-40c2-86bd-64fb6148fd58",
   "metadata": {},
   "outputs": [
    {
     "data": {
      "text/plain": [
       "[5, 10]"
      ]
     },
     "execution_count": 4,
     "metadata": {},
     "output_type": "execute_result"
    }
   ],
   "source": [
    "matrix_dot_vector(a, b)"
   ]
  },
  {
   "cell_type": "code",
   "execution_count": 5,
   "id": "a322117f-138f-4d19-a478-7fa653039e5f",
   "metadata": {},
   "outputs": [
    {
     "name": "stdout",
     "output_type": "stream",
     "text": [
      "-1\n",
      "[14, 25, 49]\n",
      "[5.5, 10.0]\n"
     ]
    }
   ],
   "source": [
    "print(matrix_dot_vector([[1, 2], [2, 4], [6, 8], [12, 4]], [1, 2, 3]))\n",
    "print(matrix_dot_vector([[1, 2, 3], [2, 4, 5], [6, 8, 9]], [1, 2, 3]))\n",
    "print(matrix_dot_vector([[1.5, 2.5], [3.0, 4.0]], [2, 1]))"
   ]
  },
  {
   "cell_type": "code",
   "execution_count": null,
   "id": "8c97607f-006c-484b-93dd-7bc984dc6744",
   "metadata": {},
   "outputs": [],
   "source": [
    "\n",
    "         \n",
    "         "
   ]
  },
  {
   "cell_type": "code",
   "execution_count": null,
   "id": "1ed4e7c0-beab-4a44-b9da-8727e8055002",
   "metadata": {},
   "outputs": [],
   "source": []
  },
  {
   "cell_type": "code",
   "execution_count": null,
   "id": "faf3fa21-87c7-45cf-8bfb-aa2378bd9bef",
   "metadata": {},
   "outputs": [],
   "source": []
  }
 ],
 "metadata": {
  "kernelspec": {
   "display_name": "Python 3 (ipykernel)",
   "language": "python",
   "name": "python3"
  },
  "language_info": {
   "codemirror_mode": {
    "name": "ipython",
    "version": 3
   },
   "file_extension": ".py",
   "mimetype": "text/x-python",
   "name": "python",
   "nbconvert_exporter": "python",
   "pygments_lexer": "ipython3",
   "version": "3.8.12"
  }
 },
 "nbformat": 4,
 "nbformat_minor": 5
}
