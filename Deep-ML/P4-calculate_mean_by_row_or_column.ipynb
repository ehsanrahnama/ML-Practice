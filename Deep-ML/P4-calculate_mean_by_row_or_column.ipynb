{
 "cells": [
  {
   "cell_type": "code",
   "execution_count": 21,
   "id": "44379ae1-15cc-447a-99f8-77a92676a2e6",
   "metadata": {},
   "outputs": [],
   "source": [
    "from typing import List, Union"
   ]
  },
  {
   "cell_type": "code",
   "execution_count": 22,
   "id": "99ae9bcf-2a4c-4533-a9bc-70c21c1742e1",
   "metadata": {},
   "outputs": [],
   "source": [
    "def calculate_matrix_mean(matrix: List[List[float]], mode: str) -> List[float]:\n",
    "    \n",
    "    row, col = len(matrix), len(matrix[0])\n",
    "    if mode not in ['row', 'column']:\n",
    "        raise ValueError(\"Mode has to be row or column\")\n",
    "    \n",
    "    elif mode == 'row':\n",
    "        means = [sum(r) / row for r in matrix]\n",
    "    \n",
    "    else:  \n",
    "        means = []\n",
    "        for c in range(col):\n",
    "            mean = 0 \n",
    "            for r in range(row):\n",
    "                mean += matrix[r][c]\n",
    "            means.append(mean / col)\n",
    "    \n",
    "    return means"
   ]
  },
  {
   "cell_type": "code",
   "execution_count": null,
   "id": "6d282ca0-1bcb-40db-af32-8d9c7e7e2cee",
   "metadata": {},
   "outputs": [],
   "source": []
  },
  {
   "cell_type": "code",
   "execution_count": 23,
   "id": "bd3e4663-6dd1-4037-9448-86663a91fceb",
   "metadata": {},
   "outputs": [],
   "source": [
    "matrix = [[1, 2, 3], [4, 5, 6], [7, 8, 9]]\n",
    "mode = 'column'"
   ]
  },
  {
   "cell_type": "code",
   "execution_count": 24,
   "id": "7fa7ab65-6a7d-4c12-9aec-ea634562ab69",
   "metadata": {},
   "outputs": [
    {
     "data": {
      "text/plain": [
       "[4.0, 5.0, 6.0]"
      ]
     },
     "execution_count": 24,
     "metadata": {},
     "output_type": "execute_result"
    }
   ],
   "source": [
    "calculate_matrix_mean(matrix, mode)"
   ]
  },
  {
   "cell_type": "code",
   "execution_count": null,
   "id": "a36bec3b-50cc-4625-9a56-b8395c819810",
   "metadata": {},
   "outputs": [],
   "source": []
  },
  {
   "cell_type": "code",
   "execution_count": 29,
   "id": "32b95389-093e-4228-8471-0354da8e377d",
   "metadata": {},
   "outputs": [],
   "source": [
    "row, col = len(matrix), len(matrix[0])"
   ]
  },
  {
   "cell_type": "code",
   "execution_count": 33,
   "id": "99b963ed-387d-4361-a6b4-e60f526e21e7",
   "metadata": {},
   "outputs": [
    {
     "data": {
      "text/plain": [
       "((1, 4, 7), (2, 5, 8), (3, 6, 9))"
      ]
     },
     "execution_count": 33,
     "metadata": {},
     "output_type": "execute_result"
    }
   ],
   "source": [
    "## you can access colume by this code\n",
    "tuple(zip(*matrix))"
   ]
  },
  {
   "cell_type": "code",
   "execution_count": 36,
   "id": "bedf8ba5-ae4d-46d6-8b38-ebbbd81041f2",
   "metadata": {},
   "outputs": [
    {
     "data": {
      "text/plain": [
       "[4.0, 5.0, 6.0]"
      ]
     },
     "execution_count": 36,
     "metadata": {},
     "output_type": "execute_result"
    }
   ],
   "source": [
    "[sum(c) / col for c in tuple(zip(*matrix))]"
   ]
  },
  {
   "cell_type": "code",
   "execution_count": null,
   "id": "65c14764-3ae8-4b1d-97e7-2f0919e00acc",
   "metadata": {},
   "outputs": [],
   "source": []
  },
  {
   "cell_type": "code",
   "execution_count": null,
   "id": "46cc412e-36f0-4dec-ab86-3e84812d59a8",
   "metadata": {},
   "outputs": [],
   "source": []
  },
  {
   "cell_type": "code",
   "execution_count": null,
   "id": "29140de1-e537-4a4c-a13f-a37c2cf4d38b",
   "metadata": {},
   "outputs": [],
   "source": []
  }
 ],
 "metadata": {
  "kernelspec": {
   "display_name": "Python 3 (ipykernel)",
   "language": "python",
   "name": "python3"
  },
  "language_info": {
   "codemirror_mode": {
    "name": "ipython",
    "version": 3
   },
   "file_extension": ".py",
   "mimetype": "text/x-python",
   "name": "python",
   "nbconvert_exporter": "python",
   "pygments_lexer": "ipython3",
   "version": "3.8.12"
  }
 },
 "nbformat": 4,
 "nbformat_minor": 5
}
