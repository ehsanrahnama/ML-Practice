{
 "cells": [
  {
   "cell_type": "code",
   "execution_count": 2,
   "id": "9074f867-fb2a-4c2c-a24f-100489d27d27",
   "metadata": {},
   "outputs": [],
   "source": [
    "from typing import List, Union"
   ]
  },
  {
   "cell_type": "code",
   "execution_count": 26,
   "id": "a6e4351f-65f6-4e00-9b78-7ece1b8c119a",
   "metadata": {},
   "outputs": [],
   "source": [
    "def transpose_matrix(a: List[List[Union[int,float]]]) -> List[List[Union[int,float]]]:\n",
    "    M = len(a) #row \n",
    "    N = len(a[0]) #column \n",
    "    b = [[0 for i in range(M)] for j in range(N)]\n",
    "    for i in range(N):\n",
    "        for j in range(M):\n",
    "         b[i][j] = a[j][i]\n",
    "    return b"
   ]
  },
  {
   "cell_type": "code",
   "execution_count": 4,
   "id": "5a49e14a-12e6-44fe-8047-82600de53ee7",
   "metadata": {},
   "outputs": [],
   "source": [
    "a = [[1,2,3],[4,5,6]]"
   ]
  },
  {
   "cell_type": "code",
   "execution_count": 27,
   "id": "f61c453f-7cee-4d64-a5d3-777f5f1d4d81",
   "metadata": {},
   "outputs": [
    {
     "data": {
      "text/plain": [
       "[[1, 4], [2, 5], [3, 6]]"
      ]
     },
     "execution_count": 27,
     "metadata": {},
     "output_type": "execute_result"
    }
   ],
   "source": [
    "transpose_matrix(a)"
   ]
  },
  {
   "cell_type": "code",
   "execution_count": null,
   "id": "7efa684a-ff6b-4df9-9d89-894e8591c2e1",
   "metadata": {},
   "outputs": [],
   "source": []
  },
  {
   "cell_type": "code",
   "execution_count": null,
   "id": "7a2e4271-c98c-453c-be71-c424bb297b30",
   "metadata": {},
   "outputs": [],
   "source": []
  },
  {
   "cell_type": "code",
   "execution_count": null,
   "id": "7e75b148-a689-455a-a8cc-e216fe7f929d",
   "metadata": {},
   "outputs": [],
   "source": []
  },
  {
   "cell_type": "code",
   "execution_count": null,
   "id": "cc09e85d-ba57-471c-b2aa-02e4b9492e52",
   "metadata": {},
   "outputs": [],
   "source": []
  },
  {
   "cell_type": "code",
   "execution_count": 14,
   "id": "3482bfa5-dbc1-4d67-946c-34c2a2105b90",
   "metadata": {},
   "outputs": [],
   "source": []
  },
  {
   "cell_type": "code",
   "execution_count": null,
   "id": "c0b1900c-d726-441a-adb3-4079bcfae5a3",
   "metadata": {},
   "outputs": [],
   "source": []
  },
  {
   "cell_type": "code",
   "execution_count": null,
   "id": "e42887d8-50d0-4e70-8614-71d58bd08735",
   "metadata": {},
   "outputs": [],
   "source": []
  }
 ],
 "metadata": {
  "kernelspec": {
   "display_name": "Python 3 (ipykernel)",
   "language": "python",
   "name": "python3"
  },
  "language_info": {
   "codemirror_mode": {
    "name": "ipython",
    "version": 3
   },
   "file_extension": ".py",
   "mimetype": "text/x-python",
   "name": "python",
   "nbconvert_exporter": "python",
   "pygments_lexer": "ipython3",
   "version": "3.8.12"
  }
 },
 "nbformat": 4,
 "nbformat_minor": 5
}
